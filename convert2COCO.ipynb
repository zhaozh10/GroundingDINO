{
 "cells": [
  {
   "cell_type": "code",
   "execution_count": 25,
   "metadata": {},
   "outputs": [],
   "source": [
    "from dataset.data import get_datasets, get_testset\n",
    "from dataset.config import path_full_dataset\n",
    "from datasets import load_from_disk\n",
    "from dataset.config import ANATOMICAL_REGIONS"
   ]
  },
  {
   "cell_type": "code",
   "execution_count": 27,
   "metadata": {},
   "outputs": [],
   "source": [
    "ANATOMICAL_DICT = {\n",
    "    1:\"right lung\",\n",
    "    2:\"right upper lung zone\",\n",
    "    3:\"right mid lung zone\",\n",
    "    4:\"right lower lung zone\",\n",
    "    5:\"right hilar structures\",\n",
    "    6:\"right apical zone\",\n",
    "    7:\"right costophrenic angle\",\n",
    "    8:\"right hemidiaphragm\",\n",
    "    9:\"left lung\",\n",
    "    10:\"left upper lung zone\",\n",
    "    11:\"left mid lung zone\",\n",
    "    12:\"left lower lung zone\",\n",
    "    13:\"left hilar structures\",\n",
    "    14:\"left apical zone\",\n",
    "    15:\"left costophrenic angle\",\n",
    "    16:\"left hemidiaphragm\",\n",
    "    17:\"trachea\",\n",
    "    18:\"spine\",\n",
    "    19:\"right clavicle\",\n",
    "    20:\"left clavicle\",\n",
    "    21:\"aortic arch\",\n",
    "    22:\"mediastinum\",\n",
    "    23:\"upper mediastinum\",\n",
    "    24:\"svc\",\n",
    "    25:\"cardiac silhouette\",\n",
    "    26:\"cavoatrial junction\",\n",
    "    27:\"right atrium\",\n",
    "    28:\"carina\",\n",
    "    29:\"abdomen\"\n",
    "}"
   ]
  },
  {
   "cell_type": "code",
   "execution_count": 40,
   "metadata": {},
   "outputs": [],
   "source": [
    "categories=[]\n",
    "for i, elem in enumerate(ANATOMICAL_DICT.items()):\n",
    "    categories.append({'id':elem[0],'name':elem[1]})"
   ]
  },
  {
   "cell_type": "code",
   "execution_count": 2,
   "metadata": {},
   "outputs": [
    {
     "data": {
      "text/plain": [
       "'../data/mimic-cxr-object/'"
      ]
     },
     "execution_count": 2,
     "metadata": {},
     "output_type": "execute_result"
    }
   ],
   "source": [
    "path_full_dataset"
   ]
  },
  {
   "cell_type": "code",
   "execution_count": 3,
   "metadata": {},
   "outputs": [],
   "source": [
    "raw_train, raw_val = get_datasets(path_full_dataset)\n",
    "raw_testset, raw_testset2=get_testset(path_full_dataset)"
   ]
  },
  {
   "cell_type": "code",
   "execution_count": 29,
   "metadata": {},
   "outputs": [],
   "source": [
    "import json\n",
    "cxr_wh=json.load(open('../data/mimic-cxr-reports/cxr_wh.json'))"
   ]
  },
  {
   "cell_type": "code",
   "execution_count": 31,
   "metadata": {},
   "outputs": [
    {
     "name": "stderr",
     "output_type": "stream",
     "text": [
      "100%|██████████| 166504/166504 [00:38<00:00, 4341.60it/s]\n"
     ]
    }
   ],
   "source": [
    "from tqdm import tqdm\n",
    "train_info={}\n",
    "category_info=[]\n",
    "image_info=[]\n",
    "annotation_info=[]\n",
    "# train_info['categories']=[]\n",
    "# train_info['image']=[]\n",
    "# train_info['annotations']=[]\n",
    "for i, elem in enumerate(tqdm(raw_train)):\n",
    "    stats=cxr_wh[elem['mimic_image_file_path']]\n",
    "    image_info.append({\n",
    "        'file_name':elem['mimic_image_file_path'],\n",
    "        'image_id':elem['image_id'],\n",
    "        'width':stats['width'],\n",
    "        'height':stats['height']\n",
    "\n",
    "    })\n",
    "    true_elements = [{\"bbox\":coord,\"caption\":sentence,\"category_id\":idx+1} for idx, (exists, coord, sentence) in enumerate(zip(elem['bbox_phrase_exists'], elem['bbox_coordinates'], elem['bbox_phrases'])) if exists]\n",
    "    for j, tgt in enumerate(true_elements):\n",
    "        bbox_width=tgt['bbox'][2]-tgt['bbox'][0]\n",
    "        bbox_height=tgt['bbox'][3]-tgt['bbox'][1]\n",
    "        annotation_info.append({\n",
    "            \"bbox\":[tgt['bbox'][0],tgt['bbox'][1], bbox_width, bbox_height],\n",
    "            \"caption\":tgt[\"caption\"],\n",
    "            \"category_id\":tgt['category_id'],\n",
    "            \"image_id\":elem['image_id']\n",
    "        })\n",
    "train_info['images']=image_info\n",
    "train_info['annotations']=annotation_info\n",
    "train_info['categories']=categories\n",
    "with open('./train_cxr_object.json','w')as f:\n",
    "    json.dump(train_info,f,indent=4)"
   ]
  },
  {
   "cell_type": "code",
   "execution_count": 34,
   "metadata": {},
   "outputs": [
    {
     "data": {
      "text/plain": [
       "166504"
      ]
     },
     "execution_count": 34,
     "metadata": {},
     "output_type": "execute_result"
    }
   ],
   "source": [
    "len(image_info)"
   ]
  },
  {
   "cell_type": "code",
   "execution_count": 35,
   "metadata": {},
   "outputs": [
    {
     "data": {
      "text/plain": [
       "1485980"
      ]
     },
     "execution_count": 35,
     "metadata": {},
     "output_type": "execute_result"
    }
   ],
   "source": [
    "len(annotation_info)"
   ]
  },
  {
   "cell_type": "code",
   "execution_count": 49,
   "metadata": {},
   "outputs": [
    {
     "name": "stderr",
     "output_type": "stream",
     "text": [
      "100%|██████████| 15658/15658 [00:04<00:00, 3438.90it/s]\n"
     ]
    }
   ],
   "source": [
    "val_info={}\n",
    "category_info=[]\n",
    "image_info=[]\n",
    "annotation_info=[]\n",
    "for i, elem in enumerate(tqdm(raw_val)):\n",
    "    stats=cxr_wh[elem['mimic_image_file_path']]\n",
    "    image_info.append({\n",
    "        'file_name':elem['mimic_image_file_path'],\n",
    "        'image_id':elem['image_id'],\n",
    "        'width':stats['width'],\n",
    "        'height':stats['height'],\n",
    "        'report':elem['reference_report']\n",
    "\n",
    "    })\n",
    "    true_elements = [{\"bbox\":coord,\"caption\":sentence,\"category_id\":idx+1} for idx, (exists, coord, sentence) in enumerate(zip(elem['bbox_phrase_exists'], elem['bbox_coordinates'], elem['bbox_phrases'])) if exists]\n",
    "    for j, tgt in enumerate(true_elements):\n",
    "        bbox_width=tgt['bbox'][2]-tgt['bbox'][0]\n",
    "        bbox_height=tgt['bbox'][3]-tgt['bbox'][1]\n",
    "        annotation_info.append({\n",
    "            \"bbox\":[tgt['bbox'][0],tgt['bbox'][1], bbox_width, bbox_height],\n",
    "            \"caption\":tgt[\"caption\"],\n",
    "            \"category_id\":tgt['category_id'],\n",
    "            \"image_id\":elem['image_id']\n",
    "        })\n",
    "val_info['images']=image_info\n",
    "val_info['annotations']=annotation_info\n",
    "val_info['categories']=categories\n",
    "with open('./val_cxr_object.json','w')as f:\n",
    "    json.dump(val_info,f,indent=4)"
   ]
  },
  {
   "cell_type": "code",
   "execution_count": 50,
   "metadata": {},
   "outputs": [],
   "source": []
  },
  {
   "cell_type": "code",
   "execution_count": 51,
   "metadata": {},
   "outputs": [
    {
     "name": "stderr",
     "output_type": "stream",
     "text": [
      "100%|██████████| 31271/31271 [00:06<00:00, 4531.95it/s]\n"
     ]
    }
   ],
   "source": [
    "test_info={}\n",
    "category_info=[]\n",
    "image_info=[]\n",
    "annotation_info=[]\n",
    "for i, elem in enumerate(tqdm(raw_testset)):\n",
    "    stats=cxr_wh[elem['mimic_image_file_path']]\n",
    "    image_info.append({\n",
    "        'file_name':elem['mimic_image_file_path'],\n",
    "        'image_id':elem['image_id'],\n",
    "        'width':stats['width'],\n",
    "        'height':stats['height'],\n",
    "        'report':elem['reference_report']\n",
    "\n",
    "    })\n",
    "    true_elements = [{\"bbox\":coord,\"caption\":sentence,\"category_id\":idx+1} for idx, (exists, coord, sentence) in enumerate(zip(elem['bbox_phrase_exists'], elem['bbox_coordinates'], elem['bbox_phrases'])) if exists]\n",
    "    for j, tgt in enumerate(true_elements):\n",
    "        bbox_width=tgt['bbox'][2]-tgt['bbox'][0]\n",
    "        bbox_height=tgt['bbox'][3]-tgt['bbox'][1]\n",
    "        annotation_info.append({\n",
    "            \"bbox\":[tgt['bbox'][0],tgt['bbox'][1], bbox_width, bbox_height],\n",
    "            \"caption\":tgt[\"caption\"],\n",
    "            \"category_id\":tgt['category_id'],\n",
    "            \"image_id\":elem['image_id']\n",
    "        })\n",
    "test_info['images']=image_info\n",
    "test_info['annotations']=annotation_info\n",
    "test_info['categories']=categories\n",
    "with open('./test_cxr_object.json','w')as f:\n",
    "    json.dump(test_info,f,indent=4)"
   ]
  },
  {
   "cell_type": "code",
   "execution_count": null,
   "metadata": {},
   "outputs": [],
   "source": []
  }
 ],
 "metadata": {
  "kernelspec": {
   "display_name": "Python 3.10.0 ('win')",
   "language": "python",
   "name": "python3"
  },
  "language_info": {
   "codemirror_mode": {
    "name": "ipython",
    "version": 3
   },
   "file_extension": ".py",
   "mimetype": "text/x-python",
   "name": "python",
   "nbconvert_exporter": "python",
   "pygments_lexer": "ipython3",
   "version": "3.10.0"
  },
  "orig_nbformat": 4,
  "vscode": {
   "interpreter": {
    "hash": "b5cef9e316da9150d3f0b1939142a26be4f3c14e7e05c1f9ef8b5345ea6f4817"
   }
  }
 },
 "nbformat": 4,
 "nbformat_minor": 2
}
