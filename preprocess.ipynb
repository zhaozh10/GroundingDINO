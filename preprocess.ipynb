{
 "cells": [
  {
   "cell_type": "code",
   "execution_count": 1,
   "metadata": {},
   "outputs": [
    {
     "name": "stderr",
     "output_type": "stream",
     "text": [
      "/home/zihao/anaconda3/envs/win/lib/python3.10/site-packages/tqdm/auto.py:21: TqdmWarning: IProgress not found. Please update jupyter and ipywidgets. See https://ipywidgets.readthedocs.io/en/stable/user_install.html\n",
      "  from .autonotebook import tqdm as notebook_tqdm\n"
     ]
    }
   ],
   "source": [
    "from dataset.data import get_datasets, get_testset\n",
    "from dataset.tokenizer import get_tokenized_datasets, get_tokenizer\n",
    "from dataset.config import path_full_dataset\n",
    "from datasets import load_from_disk"
   ]
  },
  {
   "cell_type": "code",
   "execution_count": 16,
   "metadata": {},
   "outputs": [
    {
     "name": "stderr",
     "output_type": "stream",
     "text": [
      "                                                                    \r"
     ]
    }
   ],
   "source": [
    "# tokenizer MIMIC-CXR dataset using GPT-2\n",
    "tokenizer=get_tokenizer()\n",
    "raw_train_dataset, raw_val_dataset = get_datasets(path_full_dataset)\n",
    "raw_testset, raw_testset2=get_testset(path_full_dataset)\n",
    "tokenized_train, tokenized_val, tokenized_test, tokenized_test_2 = get_tokenized_datasets(tokenizer, [raw_train_dataset, raw_val_dataset, raw_testset, raw_testset2])"
   ]
  },
  {
   "cell_type": "code",
   "execution_count": 21,
   "metadata": {},
   "outputs": [
    {
     "name": "stderr",
     "output_type": "stream",
     "text": [
      "                                                                                                 \r"
     ]
    }
   ],
   "source": [
    "# # save to local machine\n",
    "tokenized_train.save_to_disk('tokenized_train')\n",
    "tokenized_val.save_to_disk('tokenized_val')\n",
    "tokenized_test.save_to_disk('tokenized_test')\n",
    "tokenized_test_2.save_to_disk('tokenized_test_2')"
   ]
  },
  {
   "cell_type": "code",
   "execution_count": 2,
   "metadata": {},
   "outputs": [],
   "source": [
    "# load tokenized dataset\n",
    "tokenized_train = load_from_disk(\"tokenized_train\")\n",
    "tokenized_val = load_from_disk(\"tokenized_val\")\n",
    "tokenized_test=load_from_disk('tokenized_test')\n",
    "tokenized_test_2=load_from_disk('tokenized_test_2')"
   ]
  },
  {
   "cell_type": "code",
   "execution_count": 9,
   "metadata": {},
   "outputs": [
    {
     "data": {
      "text/plain": [
       "[[50256,\n",
       "  43,\n",
       "  2150,\n",
       "  15343,\n",
       "  3520,\n",
       "  1877,\n",
       "  13,\n",
       "  1318,\n",
       "  389,\n",
       "  45383,\n",
       "  24537,\n",
       "  16830,\n",
       "  1402,\n",
       "  45105,\n",
       "  18666,\n",
       "  5028,\n",
       "  543,\n",
       "  389,\n",
       "  1365,\n",
       "  9555,\n",
       "  319,\n",
       "  2274,\n",
       "  16356,\n",
       "  13,\n",
       "  29087,\n",
       "  45105,\n",
       "  39495,\n",
       "  28014,\n",
       "  318,\n",
       "  8245,\n",
       "  13,\n",
       "  10452,\n",
       "  3339,\n",
       "  1523,\n",
       "  914,\n",
       "  4241,\n",
       "  287,\n",
       "  262,\n",
       "  826,\n",
       "  3504,\n",
       "  277,\n",
       "  747,\n",
       "  495,\n",
       "  318,\n",
       "  649,\n",
       "  13,\n",
       "  7754,\n",
       "  12317,\n",
       "  15343,\n",
       "  290,\n",
       "  11607,\n",
       "  45105,\n",
       "  39495,\n",
       "  28014,\n",
       "  318,\n",
       "  21588,\n",
       "  13,\n",
       "  968,\n",
       "  1402,\n",
       "  826,\n",
       "  277,\n",
       "  747,\n",
       "  1523,\n",
       "  3339,\n",
       "  1523,\n",
       "  914,\n",
       "  4241,\n",
       "  13,\n",
       "  1318,\n",
       "  318,\n",
       "  645,\n",
       "  649,\n",
       "  25397,\n",
       "  45912,\n",
       "  284,\n",
       "  1950,\n",
       "  35647,\n",
       "  13,\n",
       "  1318,\n",
       "  318,\n",
       "  645,\n",
       "  29631,\n",
       "  849,\n",
       "  273,\n",
       "  897,\n",
       "  13,\n",
       "  1400,\n",
       "  649,\n",
       "  25397,\n",
       "  1034,\n",
       "  330,\n",
       "  871,\n",
       "  284,\n",
       "  1950,\n",
       "  35647,\n",
       "  13,\n",
       "  50256],\n",
       " [50256, 50256],\n",
       " [50256, 50256],\n",
       " [50256, 50256],\n",
       " [50256,\n",
       "  44,\n",
       "  688,\n",
       "  45105,\n",
       "  39495,\n",
       "  28014,\n",
       "  318,\n",
       "  8245,\n",
       "  13,\n",
       "  7754,\n",
       "  12317,\n",
       "  15343,\n",
       "  290,\n",
       "  11607,\n",
       "  45105,\n",
       "  39495,\n",
       "  28014,\n",
       "  318,\n",
       "  21588,\n",
       "  13,\n",
       "  50256],\n",
       " [50256, 50256],\n",
       " [50256,\n",
       "  18712,\n",
       "  3339,\n",
       "  1523,\n",
       "  914,\n",
       "  4241,\n",
       "  287,\n",
       "  262,\n",
       "  826,\n",
       "  3504,\n",
       "  277,\n",
       "  747,\n",
       "  495,\n",
       "  318,\n",
       "  649,\n",
       "  13,\n",
       "  968,\n",
       "  1402,\n",
       "  826,\n",
       "  277,\n",
       "  747,\n",
       "  1523,\n",
       "  3339,\n",
       "  1523,\n",
       "  914,\n",
       "  4241,\n",
       "  13,\n",
       "  50256],\n",
       " [50256, 50256],\n",
       " [50256,\n",
       "  43,\n",
       "  2150,\n",
       "  15343,\n",
       "  3520,\n",
       "  1877,\n",
       "  13,\n",
       "  1318,\n",
       "  389,\n",
       "  45383,\n",
       "  24537,\n",
       "  16830,\n",
       "  1402,\n",
       "  45105,\n",
       "  18666,\n",
       "  5028,\n",
       "  543,\n",
       "  389,\n",
       "  1365,\n",
       "  9555,\n",
       "  319,\n",
       "  2274,\n",
       "  16356,\n",
       "  13,\n",
       "  29087,\n",
       "  45105,\n",
       "  39495,\n",
       "  28014,\n",
       "  318,\n",
       "  8245,\n",
       "  13,\n",
       "  7754,\n",
       "  12317,\n",
       "  15343,\n",
       "  290,\n",
       "  11607,\n",
       "  45105,\n",
       "  39495,\n",
       "  28014,\n",
       "  318,\n",
       "  21588,\n",
       "  13,\n",
       "  1318,\n",
       "  318,\n",
       "  645,\n",
       "  649,\n",
       "  25397,\n",
       "  45912,\n",
       "  284,\n",
       "  1950,\n",
       "  35647,\n",
       "  13,\n",
       "  1318,\n",
       "  318,\n",
       "  645,\n",
       "  29631,\n",
       "  849,\n",
       "  273,\n",
       "  897,\n",
       "  13,\n",
       "  1400,\n",
       "  649,\n",
       "  25397,\n",
       "  1034,\n",
       "  330,\n",
       "  871,\n",
       "  284,\n",
       "  1950,\n",
       "  35647,\n",
       "  13,\n",
       "  50256],\n",
       " [50256, 50256],\n",
       " [50256, 50256],\n",
       " [50256, 50256],\n",
       " [50256,\n",
       "  44,\n",
       "  688,\n",
       "  45105,\n",
       "  39495,\n",
       "  28014,\n",
       "  318,\n",
       "  8245,\n",
       "  13,\n",
       "  7754,\n",
       "  12317,\n",
       "  15343,\n",
       "  290,\n",
       "  11607,\n",
       "  45105,\n",
       "  39495,\n",
       "  28014,\n",
       "  318,\n",
       "  21588,\n",
       "  13,\n",
       "  50256],\n",
       " [50256, 50256],\n",
       " [50256, 50256],\n",
       " [50256, 50256],\n",
       " [50256, 50256],\n",
       " [50256, 50256],\n",
       " [50256, 50256],\n",
       " [50256, 50256],\n",
       " [50256, 50256],\n",
       " [50256, 50256],\n",
       " [50256, 50256],\n",
       " [50256, 50256],\n",
       " [50256, 50256],\n",
       " [50256, 50256],\n",
       " [50256, 50256],\n",
       " [50256, 50256],\n",
       " [50256, 50256]]"
      ]
     },
     "execution_count": 9,
     "metadata": {},
     "output_type": "execute_result"
    }
   ],
   "source": [
    "tokenized_val[0]['input_ids']"
   ]
  },
  {
   "cell_type": "code",
   "execution_count": 23,
   "metadata": {},
   "outputs": [
    {
     "data": {
      "text/plain": [
       "Dataset({\n",
       "    features: ['mimic_image_file_path', 'bbox_coordinates', 'bbox_labels', 'bbox_phrases', 'bbox_phrase_exists', 'bbox_is_abnormal', 'input_ids', 'attention_mask'],\n",
       "    num_rows: 166504\n",
       "})"
      ]
     },
     "execution_count": 23,
     "metadata": {},
     "output_type": "execute_result"
    }
   ],
   "source": [
    "tokenized_train"
   ]
  },
  {
   "cell_type": "code",
   "execution_count": 28,
   "metadata": {},
   "outputs": [
    {
     "data": {
      "text/plain": [
       "Dataset({\n",
       "    features: ['mimic_image_file_path', 'bbox_coordinates', 'bbox_labels', 'bbox_phrases', 'bbox_phrase_exists', 'bbox_is_abnormal', 'reference_report', 'input_ids', 'attention_mask'],\n",
       "    num_rows: 15658\n",
       "})"
      ]
     },
     "execution_count": 28,
     "metadata": {},
     "output_type": "execute_result"
    }
   ],
   "source": [
    "tokenized_val"
   ]
  },
  {
   "cell_type": "code",
   "execution_count": 29,
   "metadata": {},
   "outputs": [
    {
     "data": {
      "text/plain": [
       "Dataset({\n",
       "    features: ['mimic_image_file_path', 'bbox_coordinates', 'bbox_labels', 'bbox_phrases', 'bbox_phrase_exists', 'bbox_is_abnormal', 'reference_report', 'input_ids', 'attention_mask'],\n",
       "    num_rows: 31271\n",
       "})"
      ]
     },
     "execution_count": 29,
     "metadata": {},
     "output_type": "execute_result"
    }
   ],
   "source": [
    "tokenized_test"
   ]
  },
  {
   "cell_type": "code",
   "execution_count": 26,
   "metadata": {},
   "outputs": [
    {
     "data": {
      "text/plain": [
       "Dataset({\n",
       "    features: ['mimic_image_file_path', 'bbox_coordinates', 'bbox_labels', 'bbox_phrases', 'bbox_phrase_exists', 'bbox_is_abnormal', 'reference_report', 'input_ids', 'attention_mask'],\n",
       "    num_rows: 1440\n",
       "})"
      ]
     },
     "execution_count": 26,
     "metadata": {},
     "output_type": "execute_result"
    }
   ],
   "source": [
    "tokenized_test_2"
   ]
  },
  {
   "cell_type": "code",
   "execution_count": null,
   "metadata": {},
   "outputs": [],
   "source": []
  }
 ],
 "metadata": {
  "kernelspec": {
   "display_name": "Python 3.10.0 ('win')",
   "language": "python",
   "name": "python3"
  },
  "language_info": {
   "codemirror_mode": {
    "name": "ipython",
    "version": 3
   },
   "file_extension": ".py",
   "mimetype": "text/x-python",
   "name": "python",
   "nbconvert_exporter": "python",
   "pygments_lexer": "ipython3",
   "version": "3.10.0"
  },
  "orig_nbformat": 4,
  "vscode": {
   "interpreter": {
    "hash": "b5cef9e316da9150d3f0b1939142a26be4f3c14e7e05c1f9ef8b5345ea6f4817"
   }
  }
 },
 "nbformat": 4,
 "nbformat_minor": 2
}
