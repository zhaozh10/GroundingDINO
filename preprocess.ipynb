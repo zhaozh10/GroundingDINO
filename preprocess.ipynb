{
 "cells": [
  {
   "cell_type": "code",
   "execution_count": 13,
   "metadata": {},
   "outputs": [],
   "source": [
    "from dataset.data import get_datasets, get_testset\n",
    "from dataset.tokenizer import get_tokenized_datasets, get_tokenizer\n",
    "from dataset.config import path_full_dataset\n",
    "from datasets import load_from_disk"
   ]
  },
  {
   "cell_type": "code",
   "execution_count": 16,
   "metadata": {},
   "outputs": [
    {
     "name": "stderr",
     "output_type": "stream",
     "text": [
      "                                                                    \r"
     ]
    }
   ],
   "source": [
    "# tokenizer MIMIC-CXR dataset using GPT-2\n",
    "tokenizer=get_tokenizer()\n",
    "raw_train_dataset, raw_val_dataset = get_datasets(path_full_dataset)\n",
    "raw_testset, raw_testset2=get_testset(path_full_dataset)\n",
    "tokenized_train, tokenized_val, tokenized_test, tokenized_test_2 = get_tokenized_datasets(tokenizer, [raw_train_dataset, raw_val_dataset, raw_testset, raw_testset2])"
   ]
  },
  {
   "cell_type": "code",
   "execution_count": 21,
   "metadata": {},
   "outputs": [
    {
     "name": "stderr",
     "output_type": "stream",
     "text": [
      "                                                                                                 \r"
     ]
    }
   ],
   "source": [
    "# # save to local machine\n",
    "tokenized_train.save_to_disk('tokenized_train')\n",
    "tokenized_val.save_to_disk('tokenized_val')\n",
    "tokenized_test.save_to_disk('tokenized_test')\n",
    "tokenized_test_2.save_to_disk('tokenized_test_2')"
   ]
  },
  {
   "cell_type": "code",
   "execution_count": 22,
   "metadata": {},
   "outputs": [
    {
     "data": {
      "text/plain": [
       "Dataset({\n",
       "    features: ['mimic_image_file_path', 'bbox_coordinates', 'bbox_labels', 'bbox_phrases', 'bbox_phrase_exists', 'bbox_is_abnormal', 'reference_report', 'input_ids', 'attention_mask'],\n",
       "    num_rows: 1440\n",
       "})"
      ]
     },
     "execution_count": 22,
     "metadata": {},
     "output_type": "execute_result"
    }
   ],
   "source": [
    "# load tokenized dataset\n",
    "tokenized_train = load_from_disk(\"tokenized_train\")\n",
    "tokenized_val = load_from_disk(\"tokenized_val\")\n",
    "tokenized_test.load_from_disk('tokenized_test')\n",
    "tokenized_test_2.load_from_disk('tokenized_test_2')"
   ]
  },
  {
   "cell_type": "code",
   "execution_count": 23,
   "metadata": {},
   "outputs": [
    {
     "data": {
      "text/plain": [
       "Dataset({\n",
       "    features: ['mimic_image_file_path', 'bbox_coordinates', 'bbox_labels', 'bbox_phrases', 'bbox_phrase_exists', 'bbox_is_abnormal', 'input_ids', 'attention_mask'],\n",
       "    num_rows: 166504\n",
       "})"
      ]
     },
     "execution_count": 23,
     "metadata": {},
     "output_type": "execute_result"
    }
   ],
   "source": [
    "tokenized_train"
   ]
  },
  {
   "cell_type": "code",
   "execution_count": 24,
   "metadata": {},
   "outputs": [
    {
     "data": {
      "text/plain": [
       "Dataset({\n",
       "    features: ['mimic_image_file_path', 'bbox_coordinates', 'bbox_labels', 'bbox_phrases', 'bbox_phrase_exists', 'bbox_is_abnormal', 'reference_report', 'input_ids', 'attention_mask'],\n",
       "    num_rows: 15658\n",
       "})"
      ]
     },
     "execution_count": 24,
     "metadata": {},
     "output_type": "execute_result"
    }
   ],
   "source": [
    "tokenized_val"
   ]
  },
  {
   "cell_type": "code",
   "execution_count": 25,
   "metadata": {},
   "outputs": [
    {
     "data": {
      "text/plain": [
       "Dataset({\n",
       "    features: ['mimic_image_file_path', 'bbox_coordinates', 'bbox_labels', 'bbox_phrases', 'bbox_phrase_exists', 'bbox_is_abnormal', 'reference_report', 'input_ids', 'attention_mask'],\n",
       "    num_rows: 31271\n",
       "})"
      ]
     },
     "execution_count": 25,
     "metadata": {},
     "output_type": "execute_result"
    }
   ],
   "source": [
    "tokenized_test"
   ]
  },
  {
   "cell_type": "code",
   "execution_count": 26,
   "metadata": {},
   "outputs": [
    {
     "data": {
      "text/plain": [
       "Dataset({\n",
       "    features: ['mimic_image_file_path', 'bbox_coordinates', 'bbox_labels', 'bbox_phrases', 'bbox_phrase_exists', 'bbox_is_abnormal', 'reference_report', 'input_ids', 'attention_mask'],\n",
       "    num_rows: 1440\n",
       "})"
      ]
     },
     "execution_count": 26,
     "metadata": {},
     "output_type": "execute_result"
    }
   ],
   "source": [
    "tokenized_test_2"
   ]
  },
  {
   "cell_type": "code",
   "execution_count": null,
   "metadata": {},
   "outputs": [],
   "source": []
  }
 ],
 "metadata": {
  "kernelspec": {
   "display_name": "Python 3.10.0 ('win')",
   "language": "python",
   "name": "python3"
  },
  "language_info": {
   "codemirror_mode": {
    "name": "ipython",
    "version": 3
   },
   "file_extension": ".py",
   "mimetype": "text/x-python",
   "name": "python",
   "nbconvert_exporter": "python",
   "pygments_lexer": "ipython3",
   "version": "3.10.0"
  },
  "orig_nbformat": 4,
  "vscode": {
   "interpreter": {
    "hash": "b5cef9e316da9150d3f0b1939142a26be4f3c14e7e05c1f9ef8b5345ea6f4817"
   }
  }
 },
 "nbformat": 4,
 "nbformat_minor": 2
}
